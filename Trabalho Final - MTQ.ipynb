{
 "cells": [
  {
   "cell_type": "code",
   "execution_count": 98,
   "metadata": {},
   "outputs": [],
   "source": [
    "#Obtenção dos dados do site:\n",
    "import requests\n",
    "from urllib import request, response, error, parse #pegar url\n",
    "from urllib.request import urlopen\n",
    "from bs4 import BeautifulSoup #distrinchar o html\n",
    "#Manipulação de dados, bases e geração de gráficos\n",
    "import pandas as pd\n",
    "import numpy as np\n",
    "import matplotlib.pyplot as plt\n",
    "import datetime"
   ]
  },
  {
   "cell_type": "code",
   "execution_count": 99,
   "metadata": {},
   "outputs": [],
   "source": [
    "def mainFunc(url):\n",
    "    html = urlopen(url) #\n",
    "    soup = BeautifulSoup (html,\"lxml\")\n",
    "\n",
    "    lis = soup.find_all('li',class_= \"offers-list__offer\") # pega a linha da loja com preço\n",
    "    df = pd.DataFrame(columns=['Item','Loja','Preco R$','Data']) # gera dataframe\n",
    "\n",
    "    produtoNome = soup.find('h1', class_=\"product-name\").find('span').get_text() #pega nome do produto\n",
    "    data = datetime.datetime.now() # pega data atual\n",
    "\n",
    "    lojaNome = [] #lista com nomes das lojas\n",
    "    preco = [] #lista com preços\n",
    "\n",
    "    for li in lis:\n",
    "        lojaNome.append(li.find('div',{\"class\": \"col-store\"}).find('img',alt=True)['alt'].replace('na ',''))#insere nome na lista\n",
    "        preco.append(li.find(\"span\", class_=\"price__total\").get_text().replace('R$ ', '')) #insere preço na lista\n",
    "\n",
    "    df['Loja'] = lojaNome #passa nomes pro dataframe\n",
    "    df['Preco R$'] = preco #passa preços pro dataframe\n",
    "    for x in df.iterrows(): #pra cada linha no dataframe executa\n",
    "        df['Item'] = produtoNome #muda o item daquela linha pro nome do produto\n",
    "        df['Data'] = data.date() #muda a data daquela linha pra dataatual\n",
    "\n",
    "    df.to_csv('./dados/'+produtoNome+'-'+str(data)+'.csv') #salva em arquivo .csv com a data atual"
   ]
  },
  {
   "cell_type": "code",
   "execution_count": 100,
   "metadata": {},
   "outputs": [],
   "source": [
    "#SAMSUNG\n",
    "url = 'https://www.zoom.com.br/celular/smartphone-samsung-galaxy-a50-sm-a505g-128gb'\n",
    "mainFunc(url)\n",
    "\n",
    "#IPHONE\n",
    "url = 'https://www.zoom.com.br/celular/smartphone-apple-iphone-8-plus-64gb-4g'\n",
    "mainFunc(url)\n",
    "\n",
    "#XIAOMI\n",
    "url = 'https://www.zoom.com.br/celular/smartphone-xiaomi-redmi-note-8-64gb-android'\n",
    "mainFunc(url)\n"
   ]
  },
  {
   "cell_type": "code",
   "execution_count": 56,
   "metadata": {},
   "outputs": [
    {
     "name": "stdout",
     "output_type": "stream",
     "text": [
      "<div class=\"it min-price-today\"> <span class=\"label\"> Menor preço <strong>hoje:</strong> </span> <span class=\"value\"> R$ 2.199,00 </span> </div>\n",
      "Menor preço hoje é:  [2.199]\n"
     ]
    }
   ],
   "source": [
    "#buscar menor preço hoje\n",
    "menorPrecoHoje = [] #variavel para pegar o menor preço hoje\n",
    "figcaption = soup.find_all('div', class_='it min-price-today') #pegar o quadrado que eu quero com nome, preço\n",
    "#print(figcaption)\n",
    "for x in figcaption:\n",
    "    print(x)\n",
    "    menorPrecoHoje.append(float(x.find('span', class_=\"value\").get_text().replace('R$ ', '').replace(',','')))\n",
    "    print(\"Menor preço hoje é: \",menorPrecoHoje)"
   ]
  },
  {
   "cell_type": "code",
   "execution_count": 59,
   "metadata": {},
   "outputs": [
    {
     "name": "stdout",
     "output_type": "stream",
     "text": [
      "<div class=\"it min-price-40\"> <span class=\"label\"> Menor preço <strong>últimos 40 dias:</strong> </span> <span class=\"value\"></span> </div>\n",
      " \n"
     ]
    },
    {
     "ename": "AttributeError",
     "evalue": "'NavigableString' object has no attribute 'find_all'",
     "output_type": "error",
     "traceback": [
      "\u001b[0;31m---------------------------------------------------------------------------\u001b[0m",
      "\u001b[0;31mAttributeError\u001b[0m                            Traceback (most recent call last)",
      "\u001b[0;32m<ipython-input-59-701b5b1e3f58>\u001b[0m in \u001b[0;36m<module>\u001b[0;34m\u001b[0m\n\u001b[1;32m      6\u001b[0m \u001b[0;32mfor\u001b[0m \u001b[0mx\u001b[0m \u001b[0;32min\u001b[0m \u001b[0mfigcaption\u001b[0m\u001b[0;34m:\u001b[0m\u001b[0;34m\u001b[0m\u001b[0;34m\u001b[0m\u001b[0m\n\u001b[1;32m      7\u001b[0m     \u001b[0mprint\u001b[0m\u001b[0;34m(\u001b[0m\u001b[0mx\u001b[0m\u001b[0;34m)\u001b[0m\u001b[0;34m\u001b[0m\u001b[0;34m\u001b[0m\u001b[0m\n\u001b[0;32m----> 8\u001b[0;31m     \u001b[0mmenorPrecoHoje\u001b[0m\u001b[0;34m.\u001b[0m\u001b[0mappend\u001b[0m\u001b[0;34m(\u001b[0m\u001b[0mfloat\u001b[0m\u001b[0;34m(\u001b[0m\u001b[0mx\u001b[0m\u001b[0;34m.\u001b[0m\u001b[0mfind_all\u001b[0m\u001b[0;34m(\u001b[0m\u001b[0;34m\"span\"\u001b[0m\u001b[0;34m,\u001b[0m \u001b[0mclass_\u001b[0m\u001b[0;34m=\u001b[0m\u001b[0;34m\"value\"\u001b[0m\u001b[0;34m)\u001b[0m\u001b[0;34m.\u001b[0m\u001b[0mget_text\u001b[0m\u001b[0;34m(\u001b[0m\u001b[0;34m)\u001b[0m\u001b[0;34m.\u001b[0m\u001b[0mreplace\u001b[0m\u001b[0;34m(\u001b[0m\u001b[0;34m'R$ '\u001b[0m\u001b[0;34m,\u001b[0m \u001b[0;34m''\u001b[0m\u001b[0;34m)\u001b[0m\u001b[0;34m.\u001b[0m\u001b[0mreplace\u001b[0m\u001b[0;34m(\u001b[0m\u001b[0;34m','\u001b[0m\u001b[0;34m,\u001b[0m\u001b[0;34m''\u001b[0m\u001b[0;34m)\u001b[0m\u001b[0;34m)\u001b[0m\u001b[0;34m)\u001b[0m\u001b[0;34m\u001b[0m\u001b[0;34m\u001b[0m\u001b[0m\n\u001b[0m\u001b[1;32m      9\u001b[0m     \u001b[0mprint\u001b[0m\u001b[0;34m(\u001b[0m\u001b[0;34m\"Menor preço hoje é: \"\u001b[0m\u001b[0;34m,\u001b[0m\u001b[0mmenorPrecoHoje\u001b[0m\u001b[0;34m)\u001b[0m\u001b[0;34m\u001b[0m\u001b[0;34m\u001b[0m\u001b[0m\n",
      "\u001b[0;32m/usr/local/lib/python3.7/dist-packages/bs4/element.py\u001b[0m in \u001b[0;36m__getattr__\u001b[0;34m(self, attr)\u001b[0m\n\u001b[1;32m    650\u001b[0m             raise AttributeError(\n\u001b[1;32m    651\u001b[0m                 \"'%s' object has no attribute '%s'\" % (\n\u001b[0;32m--> 652\u001b[0;31m                     self.__class__.__name__, attr))\n\u001b[0m\u001b[1;32m    653\u001b[0m \u001b[0;34m\u001b[0m\u001b[0m\n\u001b[1;32m    654\u001b[0m     \u001b[0;32mdef\u001b[0m \u001b[0moutput_ready\u001b[0m\u001b[0;34m(\u001b[0m\u001b[0mself\u001b[0m\u001b[0;34m,\u001b[0m \u001b[0mformatter\u001b[0m\u001b[0;34m=\u001b[0m\u001b[0;34m\"minimal\"\u001b[0m\u001b[0;34m)\u001b[0m\u001b[0;34m:\u001b[0m\u001b[0;34m\u001b[0m\u001b[0;34m\u001b[0m\u001b[0m\n",
      "\u001b[0;31mAttributeError\u001b[0m: 'NavigableString' object has no attribute 'find_all'"
     ]
    }
   ],
   "source": [
    "#buscar menor preço 40 dias\n",
    "menorPreco40 = [] #variavel para pegar o menor preço dos ultimos 40 dias\n",
    "figcaption = soup.find('div', {\"class\":\"it min-price-40\"}) #pegar o quadrado que eu quero com nome, preço\n",
    "#print(figcaption)\n",
    "print(figcaption)\n",
    "for x in figcaption:\n",
    "    print(x)\n",
    "    menorPrecoHoje.append(float(x.find_all(\"span\", class_=\"value\").get_text().replace('R$ ', '').replace(',','')))\n",
    "    print(\"Menor preço hoje é: \",menorPrecoHoje)\n"
   ]
  },
  {
   "cell_type": "code",
   "execution_count": 5,
   "metadata": {},
   "outputs": [
    {
     "name": "stdout",
     "output_type": "stream",
     "text": [
      "['2.199', '2.199', '2.399', '3.985', '4.102', '4.116', '4.248', '4.248', '4.248', '4.248', '4.248', '4.248', '4.248']\n"
     ]
    }
   ],
   "source": [
    "#buscar preço total de tudo\n",
    "todosPrecos = [] #variavel para pegar todos precos\n",
    "todosPrecos1 = [] #variavel para pegar todos precos\n",
    "figcaption = soup.find_all('span', class_='price__total') #pegar o quadrado que eu quero com nome, preço\n",
    "#print(figcaption)\n",
    "for x in figcaption:\n",
    "    #print(list(x))\n",
    "    todosPrecos.append(list(x))\n",
    "    #menorPrecoHoje.append(float(x.find('span', class_=\"price__total\").get_text().replace('R$ ', '')))\n",
    "    #print(\"Menor preço hoje é: \",x)\n",
    "#todosPrecos.split('a')\n",
    "for x in todosPrecos:\n",
    "    #print(x[0])\n",
    "    todosPrecos1.append(x[0].replace('R$ ',''))\n",
    "todosPrecos1.sort()\n",
    "print(todosPrecos1)"
   ]
  },
  {
   "cell_type": "code",
   "execution_count": null,
   "metadata": {},
   "outputs": [],
   "source": [
    "\n",
    "\n"
   ]
  }
 ],
 "metadata": {
  "kernelspec": {
   "display_name": "Python 3",
   "language": "python",
   "name": "python3"
  },
  "language_info": {
   "codemirror_mode": {
    "name": "ipython",
    "version": 3
   },
   "file_extension": ".py",
   "mimetype": "text/x-python",
   "name": "python",
   "nbconvert_exporter": "python",
   "pygments_lexer": "ipython3",
   "version": "3.7.3"
  }
 },
 "nbformat": 4,
 "nbformat_minor": 4
}
