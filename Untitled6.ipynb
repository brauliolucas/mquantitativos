{
 "cells": [
  {
   "cell_type": "code",
   "execution_count": 1,
   "metadata": {},
   "outputs": [],
   "source": [
    "#Obtenção dos dados do site:\n",
    "import requests\n",
    "from urllib import request, response, error, parse #pegar url\n",
    "from urllib.request import urlopen\n",
    "from bs4 import BeautifulSoup #distrinchar o html\n",
    "#Manipulação de dados, bases e geração de gráficos\n",
    "import pandas as pd\n",
    "import numpy as np\n",
    "import matplotlib.pyplot as plt"
   ]
  },
  {
   "cell_type": "code",
   "execution_count": 13,
   "metadata": {},
   "outputs": [
    {
     "name": "stdout",
     "output_type": "stream",
     "text": [
      "\n",
      "\tBusca Comics, DC | Loja Panini\n",
      "\n",
      "[60.0, 10.9, 99.0, 32.9, 9.9, 10.9, 29.9, 9.9, 9.9, 27.9, 9.9, 9.9, 9.9, 26.9, 26.9, 9.9, 9.9, 9.9, 27.9, 26.9, 24.9, 94.0, 9.9, 20.9, 32.9, 22.9, 22.9, 24.9, 12.9, 9.9, 25.9, 26.9, 9.9, 9.9, 9.9, 29.9, 60.0, 10.9, 99.0, 32.9, 22.9, 26.9, 33.9, 39.9, 10.9, 9.9, 21.9, 7.5, 7.5, 25.9, 120.4, 7.5, 9.9, 89.0, 7.5, 9.9, 22.9, 24.9, 9.9, 7.5, 9.9, 9.9, 23.9, 24.9, 10.9, 23.9, 11.9, 26.9, 22.9, 9.9, 28.9, 99.0, 60.0, 10.9, 99.0, 32.9, 19.9, 10.9, 27.9, 11.9, 27.9, 53.0, 28.9, 9.9, 25.9, 16.0, 7.5, 22.9, 24.9, 41.0, 25.9, 24.9, 142.0, 8.9, 24.9, 7.5, 20.9, 19.9, 9.9, 16.9, 14.9, 8.9, 24.9, 24.9, 20.9, 21.9, 24.9, 21.9, 60.0, 10.9, 99.0, 32.9, 25.9, 21.9, 20.9, 14.0, 19.9, 8.9, 21.9, 8.9, 99.0, 8.9, 8.9, 87.0, 92.0, 18.9, 17.9, 25.9, 25.9, 53.0, 23.9, 115.0, 15.0, 24.9, 20.9, 21.9, 21.9, 19.9, 125.0, 23.9, 64.0, 24.9, 15.0, 125.0, 60.0, 10.9, 99.0, 32.9, 22.9, 29.9, 17.9, 7.5, 7.5, 22.9, 10.9, 18.9, 7.5, 14.0, 32.0, 56.0, 7.5, 21.9, 8.9, 21.9, 9.9, 26.9, 51.0, 99.0, 23.9, 22.9, 25.9, 22.9, 22.9, 23.9, 24.9, 99.0, 19.9, 21.9, 7.5, 48.0, 60.0, 10.9, 99.0, 32.9, 76.0, 23.9, 21.9, 71.0, 10.5, 39.0, 7.5, 7.5, 26.9, 68.0, 60.0, 60.0, 18.9, 21.9, 8.5, 70.0, 21.9, 27.9, 24.9, 60.0, 25.9, 18.9, 22.9, 21.9, 129.0, 22.9, 27.9, 7.5, 21.9, 82.0, 18.9, 86.0, 60.0, 10.9, 99.0, 32.9, 21.9, 7.5, 21.9, 7.5, 115.0, 19.9, 41.0, 7.5, 7.5, 21.9, 14.0, 121.0, 7.5, 7.5, 37.0, 140.0, 7.5, 7.5, 27.9, 21.9, 7.5, 25.9, 25.9, 25.9, 7.5, 27.9, 25.9, 25.9, 22.9, 110.0, 86.0, 37.0, 60.0, 10.9, 99.0, 32.9, 115.0, 55.0, 60.0, 35.9, 7.5, 51.0, 7.5, 193.0, 7.5, 74.0, 94.0, 29.9, 62.0, 106.0, 104.0, 7.5, 21.9, 28.9, 27.9, 32.9, 26.9, 25.9, 58.0, 22.9, 14.0, 21.9, 19.9, 22.9, 22.9, 19.9, 19.9, 25.0, 60.0, 10.9, 99.0, 32.9, 60.0, 26.9, 26.9, 132.0, 134.0, 62.0, 59.0, 9.9, 24.9, 153.0, 48.0, 72.0, 7.5, 97.0, 58.0, 9.5, 54.0, 64.0, 98.0, 32.9, 80.0, 64.0, 32.9, 9.9, 9.9, 32.9, 8.9, 27.9, 25.9, 25.9, 27.9, 26.9, 60.0, 10.9, 99.0, 32.9, 21.9, 8.5, 21.9, 38.0, 9.9, 23.9, 18.9, 31.9, 28.9, 28.9, 24.9, 9.9, 9.5, 19.9, 48.0, 37.0, 72.0, 21.9, 180.0, 95.0, 18.2, 26.9, 7.2, 16.4, 31.9, 8.7, 18.2, 9.9, 9.9, 19.9, 22.9, 19.9, 60.0, 10.9, 99.0, 32.9, 29.9, 29.9, 29.9, 100.0, 23.9, 29.9, 32.9, 64.0, 22.9, 28.9, 65.0, 28.9, 92.0, 25.9, 25.9, 29.9, 19.9, 8.7, 7.2, 7.2, 7.2, 24.9, 22.9, 7.2, 22.9, 16.9, 18.9, 9.9, 6.5, 19.9, 23.9, 16.2, 60.0, 10.9, 99.0, 32.9, 16.2, 16.2, 16.2, 19.2, 16.2, 23.9, 26.9, 25.9, 7.6, 7.2, 7.2, 7.2, 7.2, 7.2, 19.9, 22.9, 22.9, 23.9, 23.9, 22.9, 22.9, 23.9, 23.9, 22.9, 21.9, 21.9, 21.9, 19.9, 23.9, 23.9, 23.9, 7.2, 60.0, 10.9, 99.0, 32.9, 22.9, 26.9, 21.9, 23.9, 25.9, 8.7, 17.5, 19.9, 92.0, 64.0, 19.9, 13.9, 28.9, 28.9, 21.9, 7.5, 7.5, 7.5, 7.5, 14.0, 7.5, 7.5, 7.5, 14.0, 31.9, 7.5, 19.9, 7.2, 7.8, 8.5, 8.5, 8.5, 60.0, 10.9, 99.0, 32.9, 8.5, 7.2, 7.2, 7.2, 7.2, 7.2, 7.9, 7.5, 7.5, 7.5, 7.5, 9.9, 22.9, 120.0, 35.9, 82.0, 22.9, 62.0, 7.5, 7.5, 7.5, 14.0, 7.5, 7.5, 7.5, 7.5, 7.5, 7.5, 7.5, 9.9, 7.5, 7.5, 60.0, 10.9, 99.0, 32.9, 19.9, 62.0, 9.9, 25.9, 7.5, 7.5, 7.5, 7.5, 7.5, 9.9, 7.5, 7.5, 7.5, 19.9, 7.5, 14.0, 7.5, 7.5, 7.5, 7.5, 24.9, 9.9, 7.5, 7.5, 7.5, 7.5, 19.9, 7.5, 7.5, 7.5, 7.5, 28.9, 60.0, 10.9, 99.0, 32.9, 7.5, 125.0, 7.5, 7.5, 7.5, 14.0, 7.5, 7.5, 7.5, 7.5, 9.9, 9.9, 7.5, 39.0, 7.5, 7.5, 7.5, 7.5, 7.5, 26.9, 7.5, 7.5, 7.5, 9.9, 7.5, 14.0, 7.5, 7.5, 7.5, 21.9, 19.9, 7.5, 60.0, 10.9, 99.0, 32.9, 7.5, 7.5, 7.5, 7.5, 7.5, 7.5, 7.5, 9.9, 7.5, 7.5, 7.5, 7.5, 7.5, 7.5, 14.0, 14.0, 7.5, 51.0, 19.9, 24.9, 25.9, 31.9, 28.9, 7.5, 7.5, 7.5, 7.5, 7.5, 7.5, 7.5, 9.9, 14.0, 60.0, 10.9, 99.0, 32.9, 7.5, 21.9, 22.9, 24.9, 24.9, 29.9, 34.9, 23.9, 23.9, 25.9, 60.0, 92.0, 29.9, 75.0, 7.5, 7.5, 9.9, 25.9, 25.9, 24.9, 22.9, 7.5, 7.5, 9.9, 7.5, 62.0, 7.5, 14.0, 7.5, 7.5, 7.5, 7.5, 60.0, 10.9, 99.0, 32.9, 22.9, 87.0, 54.0, 16.2, 7.6, 7.2, 8.7, 9.9, 19.9, 17.2, 22.9, 19.9, 11.9, 9.9, 110.0, 7.5, 25.0, 7.5, 7.5, 23.9, 25.9, 7.5, 23.9, 11.5, 7.5, 25.9, 99.0, 7.5, 9.9, 10.9, 104.0, 7.5, 60.0, 10.9, 99.0, 32.9, 7.5, 7.5, 7.5, 7.5, 7.5, 7.5, 7.5, 7.5, 7.5, 14.0, 7.5, 7.5, 7.5, 7.5, 7.5, 14.0, 7.5, 26.9, 23.9, 7.5, 7.5, 7.5, 7.5, 7.5, 7.5, 7.5, 24.9, 25.9, 7.5, 7.5, 24.0, 35.9, 60.0, 10.9, 99.0, 32.9, 7.5, 7.5, 7.5, 7.5, 7.5, 7.5, 14.0, 7.5, 53.0, 17.9, 7.5, 7.5, 7.5, 7.5, 7.5, 14.0, 7.5, 7.5, 7.5, 58.0, 24.9, 9.9, 7.5, 7.5, 7.5, 7.5, 14.0, 7.5, 7.5, 7.5, 7.5, 74.0, 60.0, 10.9, 99.0, 32.9, 7.5, 7.5, 24.9, 7.5, 7.5, 7.5, 7.5, 20.9, 74.0, 7.5, 7.5, 7.5, 24.9, 14.0, 7.5, 7.5, 7.5, 74.0, 14.0, 9.9, 30.9, 7.5, 7.5, 7.5, 7.5, 7.5, 7.5, 7.5, 9.9, 7.5, 7.5, 7.5]\n"
     ]
    }
   ],
   "source": [
    "url = []\n",
    "for i in range(1, 23): #Pegando todas as páginas que possuiam hqs para venda\n",
    "    url.append('https://loja.panini.com.br/panini/vitrines/comics-dc.aspx?pg=' + str(i))\n",
    "\n",
    "html = urlopen(url[1])\n",
    "soup = BeautifulSoup (html,\"lxml\")\n",
    "title = soup.title\n",
    "titleText = title.get_text()\n",
    "print(titleText)\n",
    "\n",
    "preco = []\n",
    "#percorrendo as 23 paginas\n",
    "for pagina in url:\n",
    "    html = urlopen(pagina)\n",
    "    soup = BeautifulSoup (html,\"lxml\")\n",
    "    figcaption = soup.find_all('div', class_='description') #pegar o quadrado que eu quero com nome, preço\n",
    "\n",
    "    for x in figcaption:\n",
    "        #pegar o preço e tratar os dados para float\n",
    "        preco.append(float(x.find('p', class_='price').get_text().replace('R$', '').replace(',','.').replace('2x de ','')))\n",
    "        #print(x.find('p', class_='price').get_text())\n",
    "    \n",
    "print(preco)\n",
    "#print(figcaption)"
   ]
  },
  {
   "cell_type": "code",
   "execution_count": 14,
   "metadata": {},
   "outputs": [
    {
     "name": "stdout",
     "output_type": "stream",
     "text": [
      "{60.0: 28, 10.9: 28, 99.0: 27, 32.9: 28, 9.9: 50, 29.9: 11, 27.9: 11, 26.9: 17, 24.9: 26, 94.0: 2, 20.9: 6, 22.9: 33, 12.9: 1, 25.9: 29, 33.9: 1, 39.9: 1, 21.9: 31, 7.5: 205, 120.4: 1, 89.0: 1, 23.9: 24, 11.9: 3, 28.9: 11, 19.9: 26, 53.0: 3, 16.0: 1, 41.0: 2, 142.0: 1, 8.9: 8, 16.9: 2, 14.9: 1, 14.0: 21, 87.0: 2, 92.0: 4, 18.9: 7, 17.9: 3, 115.0: 3, 15.0: 2, 125.0: 3, 64.0: 5, 32.0: 1, 56.0: 1, 51.0: 3, 48.0: 3, 76.0: 1, 71.0: 1, 10.5: 1, 39.0: 2, 68.0: 1, 8.5: 6, 70.0: 1, 129.0: 1, 82.0: 2, 86.0: 2, 121.0: 1, 37.0: 3, 140.0: 1, 110.0: 2, 55.0: 1, 35.9: 3, 193.0: 1, 74.0: 4, 62.0: 5, 106.0: 1, 104.0: 2, 58.0: 3, 25.0: 2, 132.0: 1, 134.0: 1, 59.0: 1, 153.0: 1, 72.0: 2, 97.0: 1, 9.5: 2, 54.0: 2, 98.0: 1, 80.0: 1, 38.0: 1, 31.9: 4, 180.0: 1, 95.0: 1, 18.2: 2, 7.2: 18, 16.4: 1, 8.7: 4, 100.0: 1, 65.0: 1, 6.5: 1, 16.2: 6, 19.2: 1, 7.6: 2, 17.5: 1, 13.9: 1, 7.8: 1, 7.9: 1, 120.0: 1, 34.9: 1, 75.0: 1, 17.2: 1, 11.5: 1, 24.0: 1, 30.9: 1}\n"
     ]
    }
   ],
   "source": [
    "#armazenar a quantidade de valores repetidos em um dicionario\n",
    "counter = dict()\n",
    "for n in preco:\n",
    "    try:\n",
    "        counter[n] +=1\n",
    "    except KeyError:\n",
    "        counter[n] = 1\n",
    "print(counter)"
   ]
  },
  {
   "cell_type": "code",
   "execution_count": 22,
   "metadata": {},
   "outputs": [],
   "source": [
    "#calculo do eixo X e eixo Y da PMF\n",
    "eixoX = []\n",
    "eixoY = []\n",
    "total = 0\n",
    "totNumbers= len(preco) #total de elementos em preço\n",
    "for key,value in counter.items():\n",
    "    eixoX.append(key)\n",
    "    eixoY.append(value/totNumbers)\n",
    "    total = total + (value/totNumbers)\n",
    "    "
   ]
  },
  {
   "cell_type": "code",
   "execution_count": 23,
   "metadata": {},
   "outputs": [
    {
     "data": {
      "text/plain": [
       "1.0000000000000007"
      ]
     },
     "execution_count": 23,
     "metadata": {},
     "output_type": "execute_result"
    },
    {
     "data": {
      "image/png": "[encoded data removed]",
      "text/plain": [
       "<Figure size 432x288 with 1 Axes>"
      ]
     },
     "metadata": {
      "needs_background": "light"
     },
     "output_type": "display_data"
    }
   ],
   "source": [
    "plt.bar(eixoX,eixoY)\n",
    "total"
   ]
  },
  {
   "cell_type": "code",
   "execution_count": null,
   "metadata": {},
   "outputs": [],
   "source": []
  },
  {
   "cell_type": "code",
   "execution_count": null,
   "metadata": {},
   "outputs": [],
   "source": []
  }
 ],
 "metadata": {
  "kernelspec": {
   "display_name": "Python 3",
   "language": "python",
   "name": "python3"
  },
  "language_info": {
   "codemirror_mode": {
    "name": "ipython",
    "version": 3
   },
   "file_extension": ".py",
   "mimetype": "text/x-python",
   "name": "python",
   "nbconvert_exporter": "python",
   "pygments_lexer": "ipython3",
   "version": "3.7.0"
  }
 },
 "nbformat": 4,
 "nbformat_minor": 2
}
