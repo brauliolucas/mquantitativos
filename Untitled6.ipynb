{
 "cells": [
  {
   "cell_type": "code",
   "execution_count": 1,
   "metadata": {},
   "outputs": [],
   "source": [
    "#Obtenção dos dados do site:\n",
    "import requests\n",
    "from urllib import request, response, error, parse #pegar url\n",
    "from urllib.request import urlopen\n",
    "from bs4 import BeautifulSoup #distrinchar o html\n",
    "#Manipulação de dados, bases e geração de gráficos\n",
    "import pandas as pd\n",
    "import numpy as np\n",
    "import matplotlib.pyplot as plt"
   ]
  },
  {
   "cell_type": "code",
   "execution_count": 11,
   "metadata": {},
   "outputs": [
    {
     "name": "stdout",
     "output_type": "stream",
     "text": [
      "\r\n",
      "\tBatman: Renascimento | Loja Panini\r\n",
      "\n",
      "[9.9, 7.5, 9.9, 9.9, 9.9, 8.9, 9.5, 7.5, 7.5, 7.5, 7.5, 7.5, 7.5, 7.5, 7.5, 7.5, 7.5, 7.5, 7.5, 7.5, 7.5, 7.5, 7.5, 7.5, 7.5, 7.5, 7.5, 7.5]\n"
     ]
    }
   ],
   "source": [
    "url = 'https://loja.panini.com.br//panini/solucoes/Busca.aspx?fcp=21689'\n",
    "html = urlopen(url)\n",
    "soup = BeautifulSoup (html,\"lxml\")\n",
    "title = soup.title\n",
    "titleText = title.get_text()\n",
    "print(titleText)\n",
    "figcaption = soup.find_all('div', class_='description') #pegar o quadrado que eu quero com nome, preço\n",
    "preco = []\n",
    "for x in figcaption:\n",
    "    #pegar o preço e tratar os dados para float\n",
    "    preco.append(float(x.find('p', class_='price').get_text().replace('R$', '').replace(',','.')))\n",
    "    \n",
    "print(preco)\n",
    "#print(figcaption)"
   ]
  },
  {
   "cell_type": "code",
   "execution_count": 13,
   "metadata": {},
   "outputs": [
    {
     "name": "stdout",
     "output_type": "stream",
     "text": [
      "{9.9: 4, 7.5: 22, 8.9: 1, 9.5: 1}\n"
     ]
    }
   ],
   "source": [
    "#armazenar a quantidade de valores repetidos em um dicionario\n",
    "counter = dict()\n",
    "for n in preco:\n",
    "    try:\n",
    "        counter[n] +=1\n",
    "    except KeyError:\n",
    "        counter[n] = 1\n",
    "print(counter)"
   ]
  },
  {
   "cell_type": "code",
   "execution_count": 24,
   "metadata": {},
   "outputs": [],
   "source": [
    "#calculo do eixo X e eixo Y da PMF\n",
    "eixoX = []\n",
    "eixoY = []\n",
    "totNumbers= len(preco) #total de elementos em preço\n",
    "for key,value in counter.items():\n",
    "    eixoX.append(key)\n",
    "    eixoY.append(value/totNumbers)\n",
    "    "
   ]
  },
  {
   "cell_type": "code",
   "execution_count": 28,
   "metadata": {},
   "outputs": [
    {
     "data": {
      "text/plain": [
       "<BarContainer object of 4 artists>"
      ]
     },
     "execution_count": 28,
     "metadata": {},
     "output_type": "execute_result"
    },
    {
     "data": {
      "image/png": "[encoded data removed]",
      "text/plain": [
       "<Figure size 432x288 with 1 Axes>"
      ]
     },
     "metadata": {
      "needs_background": "light"
     },
     "output_type": "display_data"
    }
   ],
   "source": [
    "plt.bar(eixoX,eixoY)"
   ]
  },
  {
   "cell_type": "code",
   "execution_count": null,
   "metadata": {},
   "outputs": [],
   "source": []
  }
 ],
 "metadata": {
  "kernelspec": {
   "display_name": "Python 3",
   "language": "python",
   "name": "python3"
  },
  "language_info": {
   "codemirror_mode": {
    "name": "ipython",
    "version": 3
   },
   "file_extension": ".py",
   "mimetype": "text/x-python",
   "name": "python",
   "nbconvert_exporter": "python",
   "pygments_lexer": "ipython3",
   "version": "3.7.0"
  }
 },
 "nbformat": 4,
 "nbformat_minor": 2
}
