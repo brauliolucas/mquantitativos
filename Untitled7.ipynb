{
 "cells": [
  {
   "cell_type": "code",
   "execution_count": 1,
   "metadata": {},
   "outputs": [],
   "source": [
    "#Obtenção dos dados do site:\n",
    "import requests\n",
    "from urllib import request, response, error, parse #pegar url\n",
    "from urllib.request import urlopen\n",
    "from bs4 import BeautifulSoup #distrinchar o html\n",
    "#Manipulação de dados, bases e geração de gráficos\n",
    "import pandas as pd\n",
    "import numpy as np\n",
    "import matplotlib.pyplot as plt"
   ]
  },
  {
   "cell_type": "code",
   "execution_count": 2,
   "metadata": {},
   "outputs": [],
   "source": [
    "#TV\n",
    "url = 'https://www.zoom.com.br/tv/smart-tv-led-55-philco-4k-ptv55q50sns-3-hdmi'#+ str(i)\n",
    "\n",
    "html = urlopen(url)\n",
    "soup = BeautifulSoup (html,\"lxml\")\n",
    "title = soup.title\n",
    "titleText = title.get_text()"
   ]
  },
  {
   "cell_type": "code",
   "execution_count": 3,
   "metadata": {},
   "outputs": [
    {
     "name": "stdout",
     "output_type": "stream",
     "text": [
      "<div class=\"it min-price-today\"> <span class=\"label\"> Menor preço <strong>hoje:</strong> </span> <span class=\"value\"> R$ 2.199,00 </span> </div>\n",
      "Menor preço hoje é:  [2.199]\n"
     ]
    }
   ],
   "source": [
    "#buscar menor preço hoje\n",
    "menorPrecoHoje = [] #variavel para pegar o menor preço hoje\n",
    "figcaption = soup.find_all('div', class_='it min-price-today') #pegar o quadrado que eu quero com nome, preço\n",
    "#print(figcaption)\n",
    "for x in figcaption:\n",
    "    print(x)\n",
    "    menorPrecoHoje.append(float(x.find('span', class_=\"value\").get_text().replace('R$ ', '').replace(',','')))\n",
    "    print(\"Menor preço hoje é: \",menorPrecoHoje)"
   ]
  },
  {
   "cell_type": "code",
   "execution_count": 4,
   "metadata": {},
   "outputs": [
    {
     "name": "stdout",
     "output_type": "stream",
     "text": [
      "<a class=\"zmenu__zg\" href=\"https://www.zoom.com.br/conheca-o-zoom#zoomgarante\" title=\"Zoom Garante\"> <span class=\"zicon zi-chevron-arrow-right\">saiba mais</span> </a>\n",
      "<div class=\"it min-price-40\"> <span class=\"label\"> Menor preço <strong>últimos 40 dias:</strong> </span> <span class=\"value\"></span> </div>\n"
     ]
    },
    {
     "ename": "AttributeError",
     "evalue": "ResultSet object has no attribute 'get_text'. You're probably treating a list of items like a single item. Did you call find_all() when you meant to call find()?",
     "output_type": "error",
     "traceback": [
      "\u001b[1;31m---------------------------------------------------------------------------\u001b[0m",
      "\u001b[1;31mAttributeError\u001b[0m                            Traceback (most recent call last)",
      "\u001b[1;32m<ipython-input-4-4abe750a9f4b>\u001b[0m in \u001b[0;36m<module>\u001b[1;34m()\u001b[0m\n\u001b[0;32m      6\u001b[0m \u001b[1;32mfor\u001b[0m \u001b[0mx\u001b[0m \u001b[1;32min\u001b[0m \u001b[0mfigcaption\u001b[0m\u001b[1;33m:\u001b[0m\u001b[1;33m\u001b[0m\u001b[0m\n\u001b[0;32m      7\u001b[0m     \u001b[0mprint\u001b[0m\u001b[1;33m(\u001b[0m\u001b[0mx\u001b[0m\u001b[1;33m)\u001b[0m\u001b[1;33m\u001b[0m\u001b[0m\n\u001b[1;32m----> 8\u001b[1;33m     \u001b[0mmenorPrecoHoje\u001b[0m\u001b[1;33m.\u001b[0m\u001b[0mappend\u001b[0m\u001b[1;33m(\u001b[0m\u001b[0mfloat\u001b[0m\u001b[1;33m(\u001b[0m\u001b[0mx\u001b[0m\u001b[1;33m.\u001b[0m\u001b[0mfind_all\u001b[0m\u001b[1;33m(\u001b[0m\u001b[1;34m\"span\"\u001b[0m\u001b[1;33m,\u001b[0m \u001b[0mclass_\u001b[0m\u001b[1;33m=\u001b[0m\u001b[1;34m\"value\"\u001b[0m\u001b[1;33m)\u001b[0m\u001b[1;33m.\u001b[0m\u001b[0mget_text\u001b[0m\u001b[1;33m(\u001b[0m\u001b[1;33m)\u001b[0m\u001b[1;33m.\u001b[0m\u001b[0mreplace\u001b[0m\u001b[1;33m(\u001b[0m\u001b[1;34m'R$ '\u001b[0m\u001b[1;33m,\u001b[0m \u001b[1;34m''\u001b[0m\u001b[1;33m)\u001b[0m\u001b[1;33m.\u001b[0m\u001b[0mreplace\u001b[0m\u001b[1;33m(\u001b[0m\u001b[1;34m','\u001b[0m\u001b[1;33m,\u001b[0m\u001b[1;34m''\u001b[0m\u001b[1;33m)\u001b[0m\u001b[1;33m)\u001b[0m\u001b[1;33m)\u001b[0m\u001b[1;33m\u001b[0m\u001b[0m\n\u001b[0m\u001b[0;32m      9\u001b[0m     \u001b[0mprint\u001b[0m\u001b[1;33m(\u001b[0m\u001b[1;34m\"Menor preço hoje é: \"\u001b[0m\u001b[1;33m,\u001b[0m\u001b[0mmenorPrecoHoje\u001b[0m\u001b[1;33m)\u001b[0m\u001b[1;33m\u001b[0m\u001b[0m\n",
      "\u001b[1;32mC:\\ProgramData\\Anaconda3\\lib\\site-packages\\bs4\\element.py\u001b[0m in \u001b[0;36m__getattr__\u001b[1;34m(self, key)\u001b[0m\n\u001b[0;32m   1882\u001b[0m     \u001b[1;32mdef\u001b[0m \u001b[0m__getattr__\u001b[0m\u001b[1;33m(\u001b[0m\u001b[0mself\u001b[0m\u001b[1;33m,\u001b[0m \u001b[0mkey\u001b[0m\u001b[1;33m)\u001b[0m\u001b[1;33m:\u001b[0m\u001b[1;33m\u001b[0m\u001b[0m\n\u001b[0;32m   1883\u001b[0m         raise AttributeError(\n\u001b[1;32m-> 1884\u001b[1;33m             \u001b[1;34m\"ResultSet object has no attribute '%s'. You're probably treating a list of items like a single item. Did you call find_all() when you meant to call find()?\"\u001b[0m \u001b[1;33m%\u001b[0m \u001b[0mkey\u001b[0m\u001b[1;33m\u001b[0m\u001b[0m\n\u001b[0m\u001b[0;32m   1885\u001b[0m         )\n",
      "\u001b[1;31mAttributeError\u001b[0m: ResultSet object has no attribute 'get_text'. You're probably treating a list of items like a single item. Did you call find_all() when you meant to call find()?"
     ]
    }
   ],
   "source": [
    "#buscar menor preço hoje\n",
    "menorPreco40 = [] #variavel para pegar o menor preço dos ultimos 40 dias\n",
    "figcaption = soup.find_all('div', class_='it min-price-40') #pegar o quadrado que eu quero com nome, preço\n",
    "#print(figcaption)\n",
    "print(soup.a)\n",
    "for x in figcaption:\n",
    "    print(x)\n",
    "    menorPrecoHoje.append(float(x.find_all(\"span\", class_=\"value\").get_text().replace('R$ ', '').replace(',','')))\n",
    "    print(\"Menor preço hoje é: \",menorPrecoHoje)\n"
   ]
  },
  {
   "cell_type": "code",
   "execution_count": 5,
   "metadata": {},
   "outputs": [
    {
     "name": "stdout",
     "output_type": "stream",
     "text": [
      "['2.199', '2.199', '2.399', '3.985', '4.102', '4.116', '4.248', '4.248', '4.248', '4.248', '4.248', '4.248', '4.248']\n"
     ]
    }
   ],
   "source": [
    "#buscar preço total de tudo\n",
    "todosPrecos = [] #variavel para pegar todos precos\n",
    "todosPrecos1 = [] #variavel para pegar todos precos\n",
    "figcaption = soup.find_all('span', class_='price__total') #pegar o quadrado que eu quero com nome, preço\n",
    "#print(figcaption)\n",
    "for x in figcaption:\n",
    "    #print(list(x))\n",
    "    todosPrecos.append(list(x))\n",
    "    #menorPrecoHoje.append(float(x.find('span', class_=\"price__total\").get_text().replace('R$ ', '')))\n",
    "    #print(\"Menor preço hoje é: \",x)\n",
    "#todosPrecos.split('a')\n",
    "for x in todosPrecos:\n",
    "    #print(x[0])\n",
    "    todosPrecos1.append(x[0].replace('R$ ',''))\n",
    "todosPrecos1.sort()\n",
    "print(todosPrecos1)"
   ]
  },
  {
   "cell_type": "code",
   "execution_count": null,
   "metadata": {},
   "outputs": [],
   "source": [
    "\n",
    "\n"
   ]
  }
 ],
 "metadata": {
  "kernelspec": {
   "display_name": "Python 3",
   "language": "python",
   "name": "python3"
  },
  "language_info": {
   "codemirror_mode": {
    "name": "ipython",
    "version": 3
   },
   "file_extension": ".py",
   "mimetype": "text/x-python",
   "name": "python",
   "nbconvert_exporter": "python",
   "pygments_lexer": "ipython3",
   "version": "3.7.0"
  }
 },
 "nbformat": 4,
 "nbformat_minor": 2
}
