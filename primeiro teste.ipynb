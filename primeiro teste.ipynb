{
 "cells": [
  {
   "cell_type": "code",
   "execution_count": 219,
   "metadata": {},
   "outputs": [],
   "source": [
    "import matplotlib.pyplot as plt\n",
    "import pandas as pd\n",
    "from scipy.stats import norm\n"
   ]
  },
  {
   "cell_type": "markdown",
   "metadata": {},
   "source": [
    "CDF continua E PDF"
   ]
  },
  {
   "cell_type": "code",
   "execution_count": 220,
   "metadata": {},
   "outputs": [],
   "source": [
    "\n",
    "df = pd.read_csv(r'C:\\Users\\chris\\CLionProjects\\untitled1\\2019-05-022.csv', delimiter=',', low_memory=False)\n",
    "avg = df['Average'].sort_values(ascending=True)\n",
    "counter = dict()\n",
    "totNumbers = len(avg)\n",
    "for n in avg:\n",
    "    try:\n",
    "        counter[n] +=1\n",
    "    except KeyError:\n",
    "        counter[n] = 1\n",
    "\n",
    "cdfK = []\n",
    "cdfV = []\n",
    "pdfV = []\n",
    "rawValue = []\n",
    "lastVal = 0\n",
    "for key,value in counter.items():\n",
    "    lastVal += (value/totNumbers)\n",
    "    rawValue.append(key)\n",
    "    cdfK.append(key)\n",
    "    cdfV.append(lastVal)\n",
    "#print(counter)\n",
    "#Calculo da derivada aproximado\n",
    "# f(x1)' = (y2 - y1)/(x2 - x1)\n",
    "for i in range(len(cdfV)-1):\n",
    "    pdfV.append((cdfV[i+1]-cdfV[i])/(cdfK[i+1]-cdfK[i]))\n"
   ]
  },
  {
   "cell_type": "code",
   "execution_count": 226,
   "metadata": {},
   "outputs": [
    {
     "data": {
      "image/png": "[encoded data removed]",
      "text/plain": [
       "<Figure size 432x288 with 1 Axes>"
      ]
     },
     "metadata": {
      "needs_background": "light"
     },
     "output_type": "display_data"
    }
   ],
   "source": [
    "plt.plot(cdfK,cdfV)\n",
    "#plt.plot(cdfK, norm.pdf(rawValue))\n",
    "#plt.plot(cdfK, norm.cdf(rawValue))\n",
    "#sns.distplot(cdfV, (cumulative=True))\n",
    "plt.plot(cdfK[:-1],pdfV)\n",
    "plt.show() "
   ]
  },
  {
   "cell_type": "markdown",
   "metadata": {},
   "source": [
    "CDF discreta e PMF"
   ]
  },
  {
   "cell_type": "code",
   "execution_count": 222,
   "metadata": {},
   "outputs": [
    {
     "name": "stdout",
     "output_type": "stream",
     "text": [
      "{1: 6, 2: 23, 3: 144, 4: 1021, 5: 4433, 6: 7372, 7: 3568, 8: 477, 9: 21}\n"
     ]
    }
   ],
   "source": [
    "df = pd.read_csv(r'C:\\Users\\chris\\CLionProjects\\untitled1\\2019-05-022.csv', delimiter=',', low_memory=False)\n",
    "#pd.options.display.float_format = '{:,.0f}'.format\n",
    "avg = df['Average'].sort_values(ascending=True)\n",
    "avg.astype(int)\n",
    "counter = dict()\n",
    "totNumbers = len(avg)\n",
    "for n in avg.astype(int):\n",
    "    try:\n",
    "        counter[n] +=1\n",
    "    except KeyError:\n",
    "        counter[n] = 1\n",
    "print(counter)\n",
    "cdfK = []\n",
    "cdfV = []\n",
    "pdfV = []\n",
    "pmfV = []\n",
    "rawValue = []\n",
    "lastVal = 0\n",
    "for key,value in counter.items():\n",
    "    lastVal += (value/totNumbers)\n",
    "    rawValue.append(key)\n",
    "    cdfK.append(key)\n",
    "    cdfV.append(lastVal)\n",
    "    pmfV.append(value/totNumbers)\n",
    "#print(counter)\n",
    "#Calculo da derivada aproximado\n",
    "# f(x1)' = (y2 - y1)/(x2 - x1)\n",
    "for i in range(len(cdfV)-1):\n",
    "    pdfV.append((cdfV[i+1]-cdfV[i])/(cdfK[i+1]-cdfK[i]))\n",
    "\n"
   ]
  },
  {
   "cell_type": "code",
   "execution_count": 223,
   "metadata": {
    "scrolled": true
   },
   "outputs": [
    {
     "data": {
      "text/plain": [
       "<BarContainer object of 9 artists>"
      ]
     },
     "execution_count": 223,
     "metadata": {},
     "output_type": "execute_result"
    },
    {
     "data": {
      "image/png": "[encoded data removed]",
      "text/plain": [
       "<Figure size 432x288 with 1 Axes>"
      ]
     },
     "metadata": {
      "needs_background": "light"
     },
     "output_type": "display_data"
    }
   ],
   "source": [
    "plt.plot(cdfK,cdfV)\n",
    "#plt.plot(cdfK, norm.pdf(rawValue))\n",
    "#plt.plot(cdfK, norm.cdf(rawValue))\n",
    "\n",
    "\n",
    "#sns.distplot(cdfV, (cumulative=True))\n",
    "plt.bar(cdfK,pmfV)\n",
    "\n",
    "#plt.show()"
   ]
  },
  {
   "cell_type": "code",
   "execution_count": null,
   "metadata": {},
   "outputs": [],
   "source": []
  }
 ],
 "metadata": {
  "kernelspec": {
   "display_name": "Python 3",
   "language": "python",
   "name": "python3"
  },
  "language_info": {
   "codemirror_mode": {
    "name": "ipython",
    "version": 3
   },
   "file_extension": ".py",
   "mimetype": "text/x-python",
   "name": "python",
   "nbconvert_exporter": "python",
   "pygments_lexer": "ipython3",
   "version": "3.7.0"
  }
 },
 "nbformat": 4,
 "nbformat_minor": 2
}
