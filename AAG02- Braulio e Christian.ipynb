{
 "cells": [
  {
   "cell_type": "code",
   "execution_count": 48,
   "metadata": {},
   "outputs": [],
   "source": [
    "#Obtenção dos dados do site:\n",
    "import requests\n",
    "from urllib import request, response, error, parse #pegar url\n",
    "from urllib.request import urlopen\n",
    "from bs4 import BeautifulSoup #distrinchar o html\n",
    "#Manipulação de dados, bases e geração de gráficos\n",
    "import pandas as pd\n",
    "import numpy as np\n",
    "import matplotlib.pyplot as plt"
   ]
  },
  {
   "cell_type": "markdown",
   "metadata": {},
   "source": [
    "$ Metodos\\ Quantitativos\\ em\\ Ciencias\\ da\\ Computação\\ -\\ 2019-3$\n",
    "\n",
    "$Alunos:\\ Braulio\\ Silva\\ Mendes\\ Lucas\\ -\\ 5°\\ Periodo\\ de\\ Sistemas\\ de\\ Informação\\\\ Christian\\ Scoralich\\ -\\ 3°\\ Periodo\\ de\\ Ciências\\ da\\ Computação$\n",
    "\n",
    "    "
   ]
  },
  {
   "cell_type": "markdown",
   "metadata": {},
   "source": [
    "$Análise\\ de\\ preço\\ entre\\ Quadrinhos\\ da\\ DC\\ Comics\\ e\\ Marvel\\$\n",
    "\n",
    "Como dataset utilizamos a loja panini que vende diversos quadrinhos, selecionamos as amostras com todos os quadrinhos de ambas as editoras\n",
    "que estão listados no site da panini"
   ]
  },
  {
   "cell_type": "markdown",
   "metadata": {},
   "source": [
    "Pegando amostras da DC comics"
   ]
  },
  {
   "cell_type": "code",
   "execution_count": 54,
   "metadata": {},
   "outputs": [],
   "source": [
    "precoDC = []\n",
    "\n",
    "#Laço pra pegar as 23 páginas da DC\n",
    "for i in range(23):\n",
    "    url = 'https://loja.panini.com.br/panini/vitrines/comics-dc.aspx?pg='+ str(i)\n",
    "\n",
    "    html = urlopen(url)\n",
    "    soup = BeautifulSoup (html,\"lxml\")\n",
    "    title = soup.title\n",
    "    titleText = title.get_text()\n",
    "    #print(titleText)\n",
    "    figcaption = soup.find_all('div', class_='col-lg-3 col-md-3 col-sm-4 col-xs-6') #pegar o quadrado que eu quero com nome, preço\n",
    "    \n",
    "    for x in figcaption:\n",
    "        #Pega os preços e trata os dados para float, trata também casos em que a classe do div muda\n",
    "        try:\n",
    "            precoDC.append(float(x.find('p', class_='price').get_text().replace('R$', '').replace(',','.')))\n",
    "        except:\n",
    "            precoDC.append(float(x.find('p', class_='total-price').get_text().replace('R$', '').replace(',','.')))\n",
    "        #print(preco, i) \n",
    "    #print(figcaption)"
   ]
  },
  {
   "cell_type": "markdown",
   "metadata": {},
   "source": [
    "Pegando amostras da Marvel"
   ]
  },
  {
   "cell_type": "code",
   "execution_count": 50,
   "metadata": {},
   "outputs": [],
   "source": [
    "precoMRV = []\n",
    "\n",
    "#Laço pra pegar as 32 páginas da Marvel\n",
    "for i in range(32):\n",
    "    url = 'https://loja.panini.com.br/panini/vitrines/comics-marvel.aspx?pg='+ str(i)\n",
    "\n",
    "    html = urlopen(url)\n",
    "    soup = BeautifulSoup (html,\"lxml\")\n",
    "    title = soup.title\n",
    "    titleText = title.get_text()\n",
    "    #print(titleText)\n",
    "    figcaption = soup.find_all('div', class_='col-lg-3 col-md-3 col-sm-4 col-xs-6') #pegar o quadrado que eu quero com nome, preço\n",
    "    \n",
    "    for x in figcaption:\n",
    "        #Pega os preços e trata os dados para float, trata também casos em que a classe do div muda\n",
    "        try:\n",
    "            precoMRV.append(float(x.find('p', class_='price').get_text().replace('R$', '').replace(',','.')))\n",
    "        except:\n",
    "            precoMRV.append(float(x.find('p', class_='total-price').get_text().replace('R$', '').replace(',','.')))\n",
    "        #print(preco, i) \n",
    "    #print(figcaption)"
   ]
  },
  {
   "cell_type": "code",
   "execution_count": 51,
   "metadata": {},
   "outputs": [],
   "source": [
    "#armazenar a quantidade de valores repetidos em um dicionario\n",
    "counterDC = dict()\n",
    "for n in precoDC:\n",
    "    try:\n",
    "        counterDC[n] +=1\n",
    "    except KeyError:\n",
    "        counterDC[n] = 1\n",
    "#print(counter)\n",
    "counterMRV = dict()\n",
    "for n in precoMRV:\n",
    "    try:\n",
    "        counterMRV[n] +=1\n",
    "    except KeyError:\n",
    "        counterMRV[n] = 1"
   ]
  },
  {
   "cell_type": "code",
   "execution_count": 53,
   "metadata": {},
   "outputs": [
    {
     "name": "stdout",
     "output_type": "stream",
     "text": [
      "[]\n"
     ]
    }
   ],
   "source": [
    "print(precoDC)"
   ]
  },
  {
   "cell_type": "code",
   "execution_count": 52,
   "metadata": {},
   "outputs": [
    {
     "ename": "ZeroDivisionError",
     "evalue": "division by zero",
     "output_type": "error",
     "traceback": [
      "\u001b[1;31m---------------------------------------------------------------------------\u001b[0m",
      "\u001b[1;31mZeroDivisionError\u001b[0m                         Traceback (most recent call last)",
      "\u001b[1;32m<ipython-input-52-5221054a29e8>\u001b[0m in \u001b[0;36m<module>\u001b[1;34m\u001b[0m\n\u001b[0;32m      5\u001b[0m \u001b[1;32mfor\u001b[0m \u001b[0mkey\u001b[0m\u001b[1;33m,\u001b[0m\u001b[0mvalue\u001b[0m \u001b[1;32min\u001b[0m \u001b[0mcounter\u001b[0m\u001b[1;33m.\u001b[0m\u001b[0mitems\u001b[0m\u001b[1;33m(\u001b[0m\u001b[1;33m)\u001b[0m\u001b[1;33m:\u001b[0m\u001b[1;33m\u001b[0m\u001b[1;33m\u001b[0m\u001b[0m\n\u001b[0;32m      6\u001b[0m     \u001b[0meixoXDC\u001b[0m\u001b[1;33m.\u001b[0m\u001b[0mappend\u001b[0m\u001b[1;33m(\u001b[0m\u001b[0mkey\u001b[0m\u001b[1;33m)\u001b[0m\u001b[1;33m\u001b[0m\u001b[1;33m\u001b[0m\u001b[0m\n\u001b[1;32m----> 7\u001b[1;33m     \u001b[0meixoYDC\u001b[0m\u001b[1;33m.\u001b[0m\u001b[0mappend\u001b[0m\u001b[1;33m(\u001b[0m\u001b[0mvalue\u001b[0m\u001b[1;33m/\u001b[0m\u001b[0mtotNumbers\u001b[0m\u001b[1;33m)\u001b[0m\u001b[1;33m\u001b[0m\u001b[1;33m\u001b[0m\u001b[0m\n\u001b[0m\u001b[0;32m      8\u001b[0m \u001b[1;33m\u001b[0m\u001b[0m\n",
      "\u001b[1;31mZeroDivisionError\u001b[0m: division by zero"
     ]
    }
   ],
   "source": [
    "#calculo do eixo X e eixo Y da PMF da DC\n",
    "eixoXDC = []\n",
    "eixoYDC = []\n",
    "totNumbers= len(precoDC) #total de elementos em preço\n",
    "for key,value in counter.items():\n",
    "    eixoXDC.append(key)\n",
    "    eixoYDC.append(value/totNumbers)\n",
    "    "
   ]
  },
  {
   "cell_type": "code",
   "execution_count": null,
   "metadata": {},
   "outputs": [],
   "source": [
    "#calculo do eixo X e eixo Y da PMF da DC\n",
    "eixoXMRV = []\n",
    "eixoYMRV = []\n",
    "totNumbers= len(precoMRV) #total de elementos em preço\n",
    "for key,value in counter.items():\n",
    "    eixoXMRV.append(key)\n",
    "    eixoYMRV.append(value/totNumbers)\n",
    "    "
   ]
  },
  {
   "cell_type": "code",
   "execution_count": null,
   "metadata": {},
   "outputs": [],
   "source": [
    "plt.plot(eixoXDC,eixoYDC)\n",
    "plt.show()"
   ]
  },
  {
   "cell_type": "code",
   "execution_count": null,
   "metadata": {},
   "outputs": [],
   "source": [
    "plt.plot(eixoXMRV,eixoYMRV)\n",
    "plt.show()"
   ]
  }
 ],
 "metadata": {
  "kernelspec": {
   "display_name": "Python 3",
   "language": "python",
   "name": "python3"
  },
  "language_info": {
   "codemirror_mode": {
    "name": "ipython",
    "version": 3
   },
   "file_extension": ".py",
   "mimetype": "text/x-python",
   "name": "python",
   "nbconvert_exporter": "python",
   "pygments_lexer": "ipython3",
   "version": "3.7.3"
  }
 },
 "nbformat": 4,
 "nbformat_minor": 4
}
