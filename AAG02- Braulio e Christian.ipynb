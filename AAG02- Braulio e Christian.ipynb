{
 "cells": [
  {
   "cell_type": "markdown",
   "metadata": {},
   "source": [
    "# <center>$\\underline{\\textbf{AAG02 - Análise de Preços de Comic Books}}$<p>\n",
    "<center> Braulio Lucas - 5° Periodo - Sistemas de Informação <p>\n",
    "<center> Christian Scoralich - 3° Periodo - Ciencias da Computação"
   ]
  },
  {
   "cell_type": "markdown",
   "metadata": {},
   "source": [
    "## $\\textbf{1. Importando Bibliotecas}$"
   ]
  },
  {
   "cell_type": "code",
   "execution_count": 62,
   "metadata": {},
   "outputs": [],
   "source": [
    "#Obtenção dos dados do site:\n",
    "import requests\n",
    "from urllib import request, response, error, parse #pegar url\n",
    "from urllib.request import urlopen\n",
    "from bs4 import BeautifulSoup #distrinchar o html\n",
    "#Manipulação de dados, bases e geração de gráficos\n",
    "import pandas as pd\n",
    "import numpy as np\n",
    "import matplotlib.pyplot as plt"
   ]
  },
  {
   "cell_type": "markdown",
   "metadata": {},
   "source": [
    "## $\\textbf{2. Preparando Amostras}$\n",
    "\n",
    "## 2.1 Amostra de 23 páginas do site panini.com.br\n",
    "\n",
    "<p>Como dataset utilizamos a loja panini que vende diversos quadrinhos, selecionamos as amostras com todos os quadrinhos de ambas as editoras que estão listados no site da panini.\n",
    "<p>Filtrando apenas por quadrinhos da DC comics, foram listadas 23 páginas contendo diversos quadrinhos com preços variando entre 9,90 e 250. "
   ]
  },
  {
   "cell_type": "markdown",
   "metadata": {},
   "source": [
    "### <p>2.2 Pegando amostras da DC comics referente a todas as paginas da loja panini."
   ]
  },
  {
   "cell_type": "code",
   "execution_count": 63,
   "metadata": {},
   "outputs": [],
   "source": [
    "precoDC = []\n",
    "\n",
    "#Laço pra pegar as 23 páginas da DC\n",
    "for i in range(23):\n",
    "    url = 'https://loja.panini.com.br/panini/vitrines/comics-dc.aspx?pg='+ str(i)\n",
    "\n",
    "    html = urlopen(url)\n",
    "    soup = BeautifulSoup (html,\"lxml\")\n",
    "    title = soup.title\n",
    "    titleText = title.get_text()\n",
    "    #print(titleText)\n",
    "    figcaption = soup.find_all('div', class_='col-lg-3 col-md-3 col-sm-4 col-xs-6') #pegar o quadrado que eu quero com nome, preço\n",
    "    \n",
    "    for x in figcaption:\n",
    "        #Pega os preços e trata os dados para float, trata também casos em que a classe do div muda\n",
    "        try:\n",
    "            precoDC.append(float(x.find('p', class_='price').get_text().replace('R$', '').replace(',','.')))\n",
    "        except:\n",
    "            precoDC.append(float(x.find('p', class_='total-price').get_text().replace('R$', '').replace(',','.')))\n",
    "        #print(preco, i) \n",
    "    #print(figcaption)"
   ]
  },
  {
   "cell_type": "markdown",
   "metadata": {},
   "source": [
    "### 3.0 Cálculos com a Amostra\n",
    "   Contando as ocorrencias dos preços"
   ]
  },
  {
   "cell_type": "code",
   "execution_count": 64,
   "metadata": {},
   "outputs": [],
   "source": [
    "#armazenar a quantidade de valores repetidos em um dicionario\n",
    "counterDC = dict()\n",
    "for n in precoDC:\n",
    "    try:\n",
    "        counterDC[n] +=1\n",
    "    except KeyError:\n",
    "        counterDC[n] = 1\n",
    "#print(counterDC)\n"
   ]
  },
  {
   "cell_type": "markdown",
   "metadata": {},
   "source": [
    "### 3.1 Gerando eixos do gráfico PMF"
   ]
  },
  {
   "cell_type": "code",
   "execution_count": 65,
   "metadata": {},
   "outputs": [],
   "source": [
    "#calculo do eixo X e eixo Y da PMF\n",
    "eixoXDC = []\n",
    "eixoYDC = []\n",
    "total = 0\n",
    "totNumbers= len(precoDC) #total de elementos em preço\n",
    "for key,value in counterDC.items():\n",
    "    eixoXDC.append(key)\n",
    "    eixoYDC.append(value/totNumbers)\n",
    "    total = total + (value/totNumbers)"
   ]
  },
  {
   "cell_type": "markdown",
   "metadata": {},
   "source": [
    "### 4. Gerando PMF\n",
    "<p> Gráfico sem biblioteca"
   ]
  },
  {
   "cell_type": "code",
   "execution_count": 66,
   "metadata": {},
   "outputs": [
    {
     "data": {
      "image/png": "[encoded data removed]",
      "text/plain": [
       "<Figure size 432x288 with 1 Axes>"
      ]
     },
     "metadata": {
      "needs_background": "light"
     },
     "output_type": "display_data"
    }
   ],
   "source": [
    "DCplot = plt.bar(eixoXDC,eixoYDC)\n",
    "plt.show()"
   ]
  },
  {
   "cell_type": "markdown",
   "metadata": {},
   "source": [
    "### PMF Gráfico com biblioteca"
   ]
  },
  {
   "cell_type": "code",
   "execution_count": 67,
   "metadata": {},
   "outputs": [
    {
     "data": {
      "image/png": "[encoded data removed]",
      "text/plain": [
       "<Figure size 432x288 with 1 Axes>"
      ]
     },
     "metadata": {
      "needs_background": "light"
     },
     "output_type": "display_data"
    }
   ],
   "source": [
    "plt.hist(eixoXDC,density=True,bins=np.arange(len(precoDC))-0.5)\n",
    "plt.xlim(min(eixoXDC),max(eixoXDC))\n",
    "plt.xlabel('R$')\n",
    "plt.ylabel(r'Probabilidade n <= R$')\n",
    "plt.show()"
   ]
  },
  {
   "cell_type": "markdown",
   "metadata": {},
   "source": [
    "## Realizando procedimentos para Marvel"
   ]
  },
  {
   "cell_type": "code",
   "execution_count": 68,
   "metadata": {},
   "outputs": [],
   "source": [
    "precoMRV = []\n",
    "\n",
    "#Laço pra pegar as 32 páginas da Marvel\n",
    "for i in range(32):\n",
    "    url = 'https://loja.panini.com.br/panini/vitrines/comics-marvel.aspx?pg='+ str(i)\n",
    "\n",
    "    html = urlopen(url)\n",
    "    soup = BeautifulSoup (html,\"lxml\")\n",
    "    title = soup.title\n",
    "    titleText = title.get_text()\n",
    "    #print(titleText)\n",
    "    figcaption = soup.find_all('div', class_='col-lg-3 col-md-3 col-sm-4 col-xs-6') #pegar o quadrado que eu quero com nome, preço\n",
    "    \n",
    "    for x in figcaption:\n",
    "        #Pega os preços e trata os dados para float, trata também casos em que a classe do div muda\n",
    "        try:\n",
    "            precoMRV.append(float(x.find('p', class_='price').get_text().replace('R$', '').replace(',','.')))\n",
    "        except:\n",
    "            precoMRV.append(float(x.find('p', class_='total-price').get_text().replace('R$', '').replace(',','.')))\n",
    "        #print(preco, i) \n",
    "    #print(figcaption)"
   ]
  },
  {
   "cell_type": "code",
   "execution_count": 69,
   "metadata": {},
   "outputs": [],
   "source": [
    "#calculo do eixo X e eixo Y da PMF da DC\n",
    "counterMRV = dict()\n",
    "for n in precoMRV:\n",
    "    try:\n",
    "        counterMRV[n] +=1\n",
    "    except KeyError:\n",
    "        counterMRV[n] = 1\n",
    "        \n",
    "eixoXMRV = []\n",
    "eixoYMRV = []\n",
    "totNumbers= len(precoMRV) #total de elementos em preço\n",
    "for key,value in counterMRV.items():\n",
    "    eixoXMRV.append(key)\n",
    "    eixoYMRV.append(value/totNumbers)\n",
    "    total = total + (value/totNumbers)"
   ]
  },
  {
   "cell_type": "code",
   "execution_count": 70,
   "metadata": {},
   "outputs": [
    {
     "data": {
      "image/png": "[encoded data removed]",
      "text/plain": [
       "<Figure size 432x288 with 1 Axes>"
      ]
     },
     "metadata": {
      "needs_background": "light"
     },
     "output_type": "display_data"
    }
   ],
   "source": [
    "mrvplot = plt.bar(eixoXMRV,eixoYMRV)\n",
    "plt.xlabel('R$')\n",
    "plt.ylabel(r'Probabilidade n <= R$')\n",
    "plt.show()"
   ]
  },
  {
   "cell_type": "markdown",
   "metadata": {},
   "source": [
    "## 5.0 Conclusões\n",
    "<p>Baseado nestes histogramas, aparenta-se que a Marvel tem mais revistas em quadrinho entre 9 e 50 e um outlier proximo dos 400.\n",
    "<p>Enquanto a DC comics aparenta ter mais quadrinhos entre 50 e 150.\n"
   ]
  },
  {
   "cell_type": "markdown",
   "metadata": {},
   "source": []
  },
  {
   "cell_type": "code",
   "execution_count": null,
   "metadata": {},
   "outputs": [],
   "source": []
  }
 ],
 "metadata": {
  "kernelspec": {
   "display_name": "Python 3",
   "language": "python",
   "name": "python3"
  },
  "language_info": {
   "codemirror_mode": {
    "name": "ipython",
    "version": 3
   },
   "file_extension": ".py",
   "mimetype": "text/x-python",
   "name": "python",
   "nbconvert_exporter": "python",
   "pygments_lexer": "ipython3",
   "version": "3.7.3"
  }
 },
 "nbformat": 4,
 "nbformat_minor": 4
}
