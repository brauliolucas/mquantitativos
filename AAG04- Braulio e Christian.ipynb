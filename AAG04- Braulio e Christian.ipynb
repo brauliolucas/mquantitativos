{
 "cells": [
  {
   "cell_type": "markdown",
   "metadata": {},
   "source": [
    "# <center>$\\underline{\\textbf{AAG03 - Distribuições Estatisticas}}$<p>\n",
    "<center> Braulio Lucas - 5° Periodo - Sistemas de Informação <p>\n",
    "<center> Christian Scoralich - 3° Periodo - Ciencias da Computação<p>\n",
    "    \n",
    "<center> Métodos Quantitativos em Ciências da Computação - 2019/3 <p>"
   ]
  },
  {
   "cell_type": "markdown",
   "metadata": {},
   "source": [
    "## $\\textbf{1. Importando Bibliotecas}$"
   ]
  },
  {
   "cell_type": "code",
   "execution_count": 12,
   "metadata": {},
   "outputs": [],
   "source": [
    "#importando bibliotecas\n",
    "from random import randint\n",
    "import numpy as np\n",
    "from scipy import stats\n",
    "import scipy as sp "
   ]
  },
  {
   "cell_type": "markdown",
   "metadata": {},
   "source": [
    "## $\\textbf{2. Escolhendo tema e gerando amostras}$\n",
    "Executamos também Kolmogorov-Smirnov até achar as amostras normais (p-value < 0.80)"
   ]
  },
  {
   "cell_type": "code",
   "execution_count": 14,
   "metadata": {},
   "outputs": [],
   "source": [
    "#cria duas listas para colocar as amostras\n",
    "x = 0\n",
    "d1 = 0\n",
    "d2 = 0\n",
    "while(d1 < 0.8 or d2 < 0.8): # testa se o pvalue é pelo menos 0.8\n",
    "    vet1 = stats.t.rvs(100,size=29)\n",
    "    vet2 = 1.5*vet1\n",
    "    d1 = stats.kstest(vet1,'norm').pvalue #pega o pvalue do vet1\n",
    "    d2 = stats.kstest(vet2,'norm').pvalue #pega o pvalue do vet2\n",
    "vet1.sort()\n",
    "vet2.sort()"
   ]
  },
  {
   "cell_type": "markdown",
   "metadata": {},
   "source": [
    "### Resultados\n",
    "Aqui gerei duas amostras aleatórias comparáveis, para isso gerei uma amostra aleatória na primeira deixeiamos normal, na segunda multiplicamos a primeira por 1.5 em cada posição, colocamos um numero pequeno para que o algoritmo não demore uma quantidade de tempo impraticavel.\n",
    "Refizemos o processo até que o pvalue indicado pelo kstest fosse pelo menos 0.8"
   ]
  },
  {
   "cell_type": "markdown",
   "metadata": {},
   "source": [
    "## $\\textbf{3. Teste T}$\n",
    "Executando testes para verificar os valores de t"
   ]
  },
  {
   "cell_type": "code",
   "execution_count": 15,
   "metadata": {},
   "outputs": [
    {
     "name": "stdout",
     "output_type": "stream",
     "text": [
      "t: -0.11564660489797744 \n",
      "p: 0.9083463293917783\n"
     ]
    }
   ],
   "source": [
    "t, p = stats.ttest_ind(vet1,vet2)\n",
    "print(\"t:\",t,\"\\np:\", p)"
   ]
  },
  {
   "cell_type": "markdown",
   "metadata": {},
   "source": [
    "### Resultados\n",
    "--Duvida, as vezes o T tem resultado valores negativos.\n",
    "\n",
    "Existem 90% da hipotese H0 ser constatada.\n"
   ]
  },
  {
   "cell_type": "markdown",
   "metadata": {},
   "source": [
    "## $\\textbf{4. Intervalos de Confiança para as amostras 1 e 2 de 90%-95%-99%}$\n",
    "Executando testes para verificar os valores de t"
   ]
  },
  {
   "cell_type": "code",
   "execution_count": 19,
   "metadata": {},
   "outputs": [
    {
     "name": "stdout",
     "output_type": "stream",
     "text": [
      "intervalo de confiança amostra 1 90%: \n",
      "(-1.5627232189916282, 1.7144911027648009)\n",
      "intervalo de confiança amostra 1 95%: \n",
      "(-1.876636919245017, 2.0284048030181903)\n",
      "intervalo de confiança amostra 1 99%: \n",
      "(-2.490163439373616, 2.6419313231467894)\n",
      "intervalo de confiança amostra 2 90%: \n",
      "(-2.3820267994307356, 2.533794683203908)\n",
      "intervalo de confiança amostra 2 95%: \n",
      "(-2.852897349810819, 3.0046652335839923)\n",
      "intervalo de confiança amostra 2 99%: \n",
      "(-3.7731871300037176, 3.924955013776891)\n"
     ]
    }
   ],
   "source": [
    "#5\n",
    "#amostra1 90%\n",
    "media = vet1.sum()/30\n",
    "desvio_padrao = np.std(vet1)                                          \n",
    "conf_int = sp.stats.norm.interval(0.90, loc=media, scale=desvio_padrao) \n",
    "print(\"intervalo de confiança amostra 1 90%: \")\n",
    "print(conf_int)\n",
    "#amostra1 95%\n",
    "media = vet1.sum()/30\n",
    "desvio_padrao = np.std(vet1)                                          \n",
    "conf_int = sp.stats.norm.interval(0.95, loc=media, scale=desvio_padrao) \n",
    "print(\"intervalo de confiança amostra 1 95%: \")\n",
    "print(conf_int)\n",
    "#amostra1 99%\n",
    "media = vet1.sum()/30\n",
    "desvio_padrao = np.std(vet1)                                          \n",
    "conf_int = sp.stats.norm.interval(0.99, loc=media, scale=desvio_padrao) \n",
    "print(\"intervalo de confiança amostra 1 99%: \")\n",
    "print(conf_int)\n",
    "#amostra2 90%\n",
    "media2 = vet2.sum()/30\n",
    "desvio_padrao = np.std(vet2)                                          \n",
    "conf_int = sp.stats.norm.interval(0.90, loc=media, scale=desvio_padrao) \n",
    "print(\"intervalo de confiança amostra 2 90%: \")\n",
    "print(conf_int)\n",
    "#amostra2 95%\n",
    "media2 = vet2.sum()/30\n",
    "desvio_padrao = np.std(vet2)                                          \n",
    "conf_int = sp.stats.norm.interval(0.95, loc=media, scale=desvio_padrao) \n",
    "print(\"intervalo de confiança amostra 2 95%: \")\n",
    "print(conf_int)\n",
    "#amostra2 99%\n",
    "media2 = vet2.sum()/30\n",
    "desvio_padrao = np.std(vet2)                                          \n",
    "conf_int = sp.stats.norm.interval(0.99, loc=media, scale=desvio_padrao) \n",
    "print(\"intervalo de confiança amostra 2 99%: \")\n",
    "print(conf_int)"
   ]
  },
  {
   "cell_type": "markdown",
   "metadata": {},
   "source": [
    "### Resultados\n",
    "Como pode ser observado no resultado acima, com intervalo de confiança mais alto o desvio padrão aumenta também.\n",
    "\n",
    "Os desvios padrões da amostra 2 se demonstram mais altos do que da amostra 1."
   ]
  },
  {
   "cell_type": "code",
   "execution_count": null,
   "metadata": {},
   "outputs": [],
   "source": []
  }
 ],
 "metadata": {
  "kernelspec": {
   "display_name": "Python 3",
   "language": "python",
   "name": "python3"
  },
  "language_info": {
   "codemirror_mode": {
    "name": "ipython",
    "version": 3
   },
   "file_extension": ".py",
   "mimetype": "text/x-python",
   "name": "python",
   "nbconvert_exporter": "python",
   "pygments_lexer": "ipython3",
   "version": "3.7.3"
  }
 },
 "nbformat": 4,
 "nbformat_minor": 4
}
