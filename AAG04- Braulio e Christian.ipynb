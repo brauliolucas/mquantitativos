{
 "cells": [
  {
   "cell_type": "markdown",
   "metadata": {},
   "source": [
    "# <center>$\\underline{\\textbf{AAG04 - Metodologia de Comparações Experimentais}}$<p>\n",
    "<center> Braulio Lucas - 5° Periodo - Sistemas de Informação <p>\n",
    "<center> Christian Scoralich - 3° Periodo - Ciencias da Computação<p>\n",
    "    \n",
    "<center> Métodos Quantitativos em Ciências da Computação - 2019/3 <p>"
   ]
  },
  {
   "cell_type": "markdown",
   "metadata": {},
   "source": [
    "## $\\textbf{1. Importando Bibliotecas}$"
   ]
  },
  {
   "cell_type": "code",
   "execution_count": 5,
   "metadata": {},
   "outputs": [],
   "source": [
    "#importando bibliotecas\n",
    "from random import randint\n",
    "import numpy as np\n",
    "from scipy import stats\n",
    "import scipy as sp \n",
    "import math"
   ]
  },
  {
   "cell_type": "markdown",
   "metadata": {},
   "source": [
    "## $\\textbf{2. Escolhendo tema e gerando amostras}$\n",
    "Executamos também o teste Kolmogorov-Smirnov, nosso objetivo é encontrar duas amostras normais (p-value de pelo menos 0.80)"
   ]
  },
  {
   "cell_type": "code",
   "execution_count": 2,
   "metadata": {},
   "outputs": [],
   "source": [
    "#cria duas listas para colocar as amostras\n",
    "x = 0\n",
    "d1 = 0\n",
    "d2 = 0\n",
    "while(d1 < 0.8 or d2 < 0.8): # testa se o pvalue é pelo menos 0.8\n",
    "    vet1 = stats.t.rvs(100,size=29)\n",
    "    vet2 = 1.5*vet1\n",
    "    d1 = stats.kstest(vet1,'norm').pvalue #pega o pvalue do vet1\n",
    "    d2 = stats.kstest(vet2,'norm').pvalue #pega o pvalue do vet2\n",
    "vet1.sort()\n",
    "vet2.sort()"
   ]
  },
  {
   "cell_type": "markdown",
   "metadata": {},
   "source": [
    "### Resultados\n",
    "Aqui gerei duas amostras aleatórias comparáveis, para isso gerei uma amostra aleatória que na primeira deixamos normal, na segunda multiplicamos a primeira por 1.5 em cada posição, colocamos um numero pequeno para que o algoritmo não demore uma quantidade de tempo impraticavel.\n",
    "Refizemos o processo até que o pvalue indicado pelo kstest fosse pelo menos 0.8, com isso afirmamos a normalidade da distruição amostral, os elevados p-values fortalecem a $H_0$."
   ]
  },
  {
   "cell_type": "markdown",
   "metadata": {},
   "source": [
    "## $\\textbf{3. Teste T}$\n",
    "Executando o teste-T para verificar as hipóteses $H_0$ ou $H_1$"
   ]
  },
  {
   "cell_type": "code",
   "execution_count": 3,
   "metadata": {},
   "outputs": [
    {
     "name": "stdout",
     "output_type": "stream",
     "text": [
      "t: 0.1229011232274549 \n",
      "p: 0.9026254206399883\n"
     ]
    }
   ],
   "source": [
    "t, p = stats.ttest_ind(vet1,vet2)\n",
    "print(\"t:\",t,\"\\np:\", p)"
   ]
  },
  {
   "cell_type": "markdown",
   "metadata": {},
   "source": [
    "### Resultados\n",
    "O p-value mostra a significancia estatistica, acabou dando um valor muito alto \"0,90\", isso significa que existe cerca de 90% de chance da diferença entre as amostras ser ao acaso, constatando a hipótese $H_0$ levando à conclusão de que as amostras selecionadas não diferem significativamente, em média.\n"
   ]
  },
  {
   "cell_type": "markdown",
   "metadata": {},
   "source": [
    "## $\\textbf{4. Intervalos de Confiança para as amostras 1 e 2 de 90%-95%-99%}$\n",
    "Como as amostras tem um ($n < 30$) e também são normalmente distruibuídas, nesse caso devemos utilizar a tabela T para o cálculo dos intervalos de confiança para as médias."
   ]
  },
  {
   "cell_type": "code",
   "execution_count": 22,
   "metadata": {},
   "outputs": [
    {
     "name": "stdout",
     "output_type": "stream",
     "text": [
      "Intervalo de confiança amostra 1 90%: \n",
      "media = -0.07225990453061439 entre -0.3445148139318307 e 0.19999500487060196\n",
      "Tamanho do invervalo = 0.5445098188024327\n",
      "Intervalo de confiança amostra 1 95%: \n",
      "media = -0.07225990453061439 entre -0.3999716072039187 e 0.25545179814269\n",
      "Tamanho do invervalo = 0.6554234053466087\n",
      "Intervalo de confiança amostra 1 99%: \n",
      "media = -0.07225990453061439 entre -0.5139217595654195 e 0.3694019505041907\n",
      "Tamanho do invervalo = 0.8833237100696103\n",
      "\n",
      "Intervalo de confiança amostra 2 90%: \n",
      "media = -0.1083898567959217 entre -0.5167722208977462 e 0.29999250730590277\n",
      "Tamanho do invervalo = 0.816764728203649\n",
      "Intervalo de confiança amostra 2 95%: \n",
      "media = -0.1083898567959217 entre -0.5999574108058782 e 0.38317769721403483\n",
      "Tamanho do invervalo = 0.983135108019913\n",
      "Intervalo de confiança amostra 2 99%: \n",
      "media = -0.1083898567959217 entre -0.7708826393481293 e 0.5541029257562858\n",
      "Tamanho do invervalo = 1.3249855651044151\n"
     ]
    }
   ],
   "source": [
    "#5\n",
    "# AMOSTRA 1\n",
    "#primeiro calculo a media da amostra que será a mesma para todos os intervalos de confiança da amostra 1\n",
    "u = vet1.sum()/29 \n",
    "#calculo do desvio padrao que será o mesmo para todos os intervalos de confianca da amostra 1\n",
    "desvio_padrao = np.std(vet1) \n",
    "\n",
    "\n",
    "#amostra1 90%\n",
    "#irei utilizar a tabela T já que a amostra contem 29 elementos \n",
    "#a soma de 1 e divisao por 2 é para casos onde preciso tirar a média entre dois valores para achar um valor intermediario\n",
    "t = stats.t.ppf((0.90 + 1)/2, 29) \n",
    "\n",
    "#print do intervalo de confiança\n",
    "print(\"Intervalo de confiança amostra 1 90%: \")\n",
    "print(\"media =\",u,\"entre\",u - (t * (desvio_padrao/math.sqrt(29))),\"e\",u + (t * (desvio_padrao/math.sqrt(29))))\n",
    "print(\"Tamanho do invervalo =\",-1*((u - (t * (desvio_padrao/math.sqrt(29))))- (u + (t * (desvio_padrao/math.sqrt(29))))))\n",
    "\n",
    "\n",
    "#amostra1 95%\n",
    "t = stats.t.ppf((0.95 + 1)/2, 29) \n",
    "\n",
    "#print do intervalo de confiança\n",
    "print(\"Intervalo de confiança amostra 1 95%: \")\n",
    "print(\"media =\",u,\"entre\",u - (t * (desvio_padrao/math.sqrt(29))),\"e\",u + (t * (desvio_padrao/math.sqrt(29))))\n",
    "print(\"Tamanho do invervalo =\",-1*((u - (t * (desvio_padrao/math.sqrt(29))))- (u + (t * (desvio_padrao/math.sqrt(29))))))\n",
    "\n",
    "\n",
    "#amostra1 99%\n",
    "t = stats.t.ppf((0.99 + 1)/2, 29) \n",
    "\n",
    "#print do intervalo de confiança\n",
    "print(\"Intervalo de confiança amostra 1 99%: \")\n",
    "print(\"media =\",u,\"entre\",u - (t * (desvio_padrao/math.sqrt(29))),\"e\",u + (t * (desvio_padrao/math.sqrt(29))))\n",
    "print(\"Tamanho do invervalo =\",-1*((u - (t * (desvio_padrao/math.sqrt(29))))- (u + (t * (desvio_padrao/math.sqrt(29))))))\n",
    "\n",
    "print() # so para quebrar uma linha\n",
    "\n",
    "#AMOSTRA 2\n",
    "\n",
    "#primeiro calculo a media da amostra que será a mesma para todos os intervalos de confiança da amostra 2\n",
    "u = vet2.sum()/29 \n",
    "#calculo do desvio padrao que será o mesmo para todos os intervalos de confianca da amostra 2\n",
    "desvio_padrao = np.std(vet2) \n",
    "\n",
    "\n",
    "#amostra1 90%\n",
    "#irei utilizar a tabela T já que a amostra contem 29 elementos \n",
    "#a soma de 1 e divisao por 2 é para casos onde preciso tirar a média entre dois valores para achar um valor intermediario\n",
    "t = stats.t.ppf((0.90 + 1)/2, 29) \n",
    "\n",
    "#print do intervalo de confiança\n",
    "print(\"Intervalo de confiança amostra 2 90%: \")\n",
    "print(\"media =\",u,\"entre\",u - (t * (desvio_padrao/math.sqrt(29))),\"e\",u + (t * (desvio_padrao/math.sqrt(29))))\n",
    "print(\"Tamanho do invervalo =\",-1*((u - (t * (desvio_padrao/math.sqrt(29))))- (u + (t * (desvio_padrao/math.sqrt(29))))))\n",
    "\n",
    "\n",
    "#amostra1 95%\n",
    "t = stats.t.ppf((0.95 + 1)/2, 29) \n",
    "\n",
    "#print do intervalo de confiança\n",
    "print(\"Intervalo de confiança amostra 2 95%: \")\n",
    "print(\"media =\",u,\"entre\",u - (t * (desvio_padrao/math.sqrt(29))),\"e\",u + (t * (desvio_padrao/math.sqrt(29))))\n",
    "print(\"Tamanho do invervalo =\",-1*((u - (t * (desvio_padrao/math.sqrt(29))))- (u + (t * (desvio_padrao/math.sqrt(29))))))\n",
    "\n",
    "\n",
    "#amostra1 99%\n",
    "t = stats.t.ppf((0.99 + 1)/2, 29) \n",
    "\n",
    "#print do intervalo de confiança\n",
    "print(\"Intervalo de confiança amostra 2 99%: \")\n",
    "print(\"media =\",u,\"entre\",u - (t * (desvio_padrao/math.sqrt(29))),\"e\",u + (t * (desvio_padrao/math.sqrt(29))))\n",
    "print(\"Tamanho do invervalo =\",-1*((u - (t * (desvio_padrao/math.sqrt(29))))- (u + (t * (desvio_padrao/math.sqrt(29))))))"
   ]
  },
  {
   "cell_type": "markdown",
   "metadata": {},
   "source": [
    "### Resultados\n",
    "\n",
    "Printei o tamanho dos intervalos somente para facilitar a observação dos resultados\n",
    "\n",
    "Sabemos que o tamanho do intervalo confere a precisão da estimativa, quanto maior, menor a precisão. O que podemos observar é que a amostra 1 está com uma precisão maior que a amostra 2. Também observamos que quanto mais aumentamos o nivel de confiança passando de 90%,95% e por fim por 99%, mais diminuimos nossa precisão, portanto maior o intervalo de confiança.\n",
    "\n",
    "Comparando os três niveis de confiança, vemos que as amostras analisadas são não-pareadas e há sobreposição entre os intervalos de confiança. Além disso, o intervalo de confiança de uma das amostras contém a média da outra e vice-versa. Portanto chegamos na conclusão que as duas amostras não diferem significamente entre si, provando o que o teste-T já havia concluido anteriormente."
   ]
  }
 ],
 "metadata": {
  "kernelspec": {
   "display_name": "Python 3",
   "language": "python",
   "name": "python3"
  },
  "language_info": {
   "codemirror_mode": {
    "name": "ipython",
    "version": 3
   },
   "file_extension": ".py",
   "mimetype": "text/x-python",
   "name": "python",
   "nbconvert_exporter": "python",
   "pygments_lexer": "ipython3",
   "version": "3.7.0"
  }
 },
 "nbformat": 4,
 "nbformat_minor": 4
}
