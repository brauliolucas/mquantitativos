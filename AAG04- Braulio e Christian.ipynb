{
 "cells": [
  {
   "cell_type": "markdown",
   "metadata": {},
   "source": [
    "# AAG04- Braulio e Christian"
   ]
  },
  {
   "cell_type": "code",
   "execution_count": 1,
   "metadata": {},
   "outputs": [],
   "source": [
    "#importando bibliotecas\n",
    "from random import randint\n",
    "import numpy as np\n",
    "from scipy import stats\n",
    "import scipy as sp "
   ]
  },
  {
   "cell_type": "markdown",
   "metadata": {},
   "source": [
    "$ Metodos\\ Quantitativos\\ em\\ Ciencias\\ da\\ Computação\\ -\\ 2019-3$\n",
    "\n",
    "$Alunos:\\ Braulio\\ Silva\\ Mendes\\ Lucas\\ -\\ 5°\\ Periodo\\ de\\ Sistemas\\ de\\ Informação\\\\ Christian\\ Scoralich\\ -\\ 3°\\ Periodo\\ de\\ Ciências\\ da\\ Computação$"
   ]
  },
  {
   "cell_type": "markdown",
   "metadata": {},
   "source": [
    "## parte 1,2 e 3"
   ]
  },
  {
   "cell_type": "code",
   "execution_count": 2,
   "metadata": {},
   "outputs": [
    {
     "name": "stdout",
     "output_type": "stream",
     "text": [
      "carregando ate achar dois p value 0.8\n",
      "carregando ate achar dois p value 0.8\n",
      "carregando ate achar dois p value 0.8\n",
      "carregando ate achar dois p value 0.8\n",
      "carregando ate achar dois p value 0.8\n",
      "carregando ate achar dois p value 0.8\n",
      "carregando ate achar dois p value 0.8\n",
      "carregando ate achar dois p value 0.8\n",
      "carregando ate achar dois p value 0.8\n",
      "carregando ate achar dois p value 0.8\n",
      "carregando ate achar dois p value 0.8\n",
      "carregando ate achar dois p value 0.8\n",
      "carregando ate achar dois p value 0.8\n",
      "carregando ate achar dois p value 0.8\n",
      "carregando ate achar dois p value 0.8\n",
      "carregando ate achar dois p value 0.8\n",
      "carregando ate achar dois p value 0.8\n",
      "carregando ate achar dois p value 0.8\n",
      "carregando ate achar dois p value 0.8\n",
      "carregando ate achar dois p value 0.8\n",
      "carregando ate achar dois p value 0.8\n",
      "carregando ate achar dois p value 0.8\n",
      "carregando ate achar dois p value 0.8\n",
      "carregando ate achar dois p value 0.8\n",
      "carregando ate achar dois p value 0.8\n",
      "carregando ate achar dois p value 0.8\n",
      "carregando ate achar dois p value 0.8\n",
      "carregando ate achar dois p value 0.8\n",
      "carregando ate achar dois p value 0.8\n",
      "carregando ate achar dois p value 0.8\n",
      "carregando ate achar dois p value 0.8\n",
      "carregando ate achar dois p value 0.8\n",
      "carregando ate achar dois p value 0.8\n",
      "carregando ate achar dois p value 0.8\n",
      "carregando ate achar dois p value 0.8\n",
      "carregando ate achar dois p value 0.8\n",
      "carregando ate achar dois p value 0.8\n",
      "carregando ate achar dois p value 0.8\n",
      "carregando ate achar dois p value 0.8\n",
      "carregando ate achar dois p value 0.8\n",
      "carregando ate achar dois p value 0.8\n",
      "carregando ate achar dois p value 0.8\n",
      "carregando ate achar dois p value 0.8\n",
      "carregando ate achar dois p value 0.8\n",
      "carregando ate achar dois p value 0.8\n",
      "carregando ate achar dois p value 0.8\n",
      "carregando ate achar dois p value 0.8\n",
      "carregando ate achar dois p value 0.8\n",
      "[-3.45262376 -2.3681252  -1.86914296 -1.13693553 -0.86876733 -0.6447612\n",
      " -0.58943513 -0.51322992 -0.47124572 -0.37627607 -0.35552094 -0.28743924\n",
      " -0.21360945 -0.16512474 -0.13704034 -0.09144682  0.01922225  0.19151046\n",
      "  0.3999369   0.42271481  0.45613275  0.46121923  0.57480575  0.65979212\n",
      "  0.72925616  0.76881118  1.21261259  1.51752305  2.10276707]\n",
      "[-5.17893564 -3.5521878  -2.80371444 -1.70540329 -1.30315099 -0.9671418\n",
      " -0.8841527  -0.76984488 -0.70686858 -0.56441411 -0.53328141 -0.43115886\n",
      " -0.32041418 -0.24768711 -0.20556051 -0.13717023  0.02883338  0.28726568\n",
      "  0.59990534  0.63407222  0.68419913  0.69182884  0.86220862  0.98968819\n",
      "  1.09388423  1.15321677  1.81891888  2.27628458  3.1541506 ]\n",
      "0.8177393156659148\n",
      "0.8986851033271404\n"
     ]
    }
   ],
   "source": [
    "#cria duas listas para colocar as amostras\n",
    "x = 0\n",
    "d1 = 0\n",
    "d2 = 0\n",
    "while(d1 < 0.8 or d2 < 0.8): # testa se o pvalue é pelo menos 0.8\n",
    "    vet1 = stats.t.rvs(100,size=29)\n",
    "    vet2 = 1.5*vet1\n",
    "    print(\"carregando ate achar dois p value 0.8\")\n",
    "    d1 = stats.kstest(vet1,'norm').pvalue #pega o pvalue do vet1\n",
    "    d2 = stats.kstest(vet2,'norm').pvalue #pega o pvalue do vet2\n",
    "vet1.sort()\n",
    "vet2.sort()\n",
    "i = 0\n",
    "\n",
    "print(vet1)\n",
    "print(vet2)\n",
    "\n",
    "print(d1)\n",
    "print(d2)"
   ]
  },
  {
   "cell_type": "markdown",
   "metadata": {},
   "source": [
    "### Resultados\n",
    "Aqui gerei duas amostras aleatórias comparáveis, para isso gerei uma amostra aleatória na primeira deixei normal, na segunda multipliquei a primeira por 1.5 em cada posição, coloquei um numero pequeno para que o algoritmo não demore 1 ano.\n",
    "Refiz o processo até que o pvalue indicado pelo kstest fosse pelo menos 0.8"
   ]
  },
  {
   "cell_type": "markdown",
   "metadata": {},
   "source": [
    "## Parte 4"
   ]
  },
  {
   "cell_type": "code",
   "execution_count": 5,
   "metadata": {},
   "outputs": [
    {
     "name": "stdout",
     "output_type": "stream",
     "text": [
      "t: 0.18514708595350435 \n",
      "p: 0.8537826114597464\n"
     ]
    }
   ],
   "source": [
    "#4\n",
    "t, p = stats.ttest_ind(vet1,vet2)\n",
    "print(\"t:\",t,\"\\np:\", p)"
   ]
  },
  {
   "cell_type": "markdown",
   "metadata": {},
   "source": [
    "### Resultados"
   ]
  },
  {
   "cell_type": "markdown",
   "metadata": {},
   "source": [
    "## Parte 5"
   ]
  },
  {
   "cell_type": "code",
   "execution_count": 4,
   "metadata": {},
   "outputs": [
    {
     "ename": "NameError",
     "evalue": "name 'soma' is not defined",
     "output_type": "error",
     "traceback": [
      "\u001b[1;31m---------------------------------------------------------------------------\u001b[0m",
      "\u001b[1;31mNameError\u001b[0m                                 Traceback (most recent call last)",
      "\u001b[1;32m<ipython-input-4-28f918a498ab>\u001b[0m in \u001b[0;36m<module>\u001b[1;34m()\u001b[0m\n\u001b[0;32m      1\u001b[0m \u001b[1;31m#5\u001b[0m\u001b[1;33m\u001b[0m\u001b[1;33m\u001b[0m\u001b[0m\n\u001b[0;32m      2\u001b[0m \u001b[1;31m#amostra1 90%\u001b[0m\u001b[1;33m\u001b[0m\u001b[1;33m\u001b[0m\u001b[0m\n\u001b[1;32m----> 3\u001b[1;33m \u001b[0mmedia\u001b[0m \u001b[1;33m=\u001b[0m \u001b[0msoma\u001b[0m\u001b[1;33m/\u001b[0m\u001b[1;36m30\u001b[0m\u001b[1;33m\u001b[0m\u001b[0m\n\u001b[0m\u001b[0;32m      4\u001b[0m \u001b[0mdesvio_padrao\u001b[0m \u001b[1;33m=\u001b[0m \u001b[0mnp\u001b[0m\u001b[1;33m.\u001b[0m\u001b[0mstd\u001b[0m\u001b[1;33m(\u001b[0m\u001b[0mvet1\u001b[0m\u001b[1;33m)\u001b[0m\u001b[1;33m\u001b[0m\u001b[0m\n\u001b[0;32m      5\u001b[0m \u001b[0mconf_int\u001b[0m \u001b[1;33m=\u001b[0m \u001b[0msp\u001b[0m\u001b[1;33m.\u001b[0m\u001b[0mstats\u001b[0m\u001b[1;33m.\u001b[0m\u001b[0mnorm\u001b[0m\u001b[1;33m.\u001b[0m\u001b[0minterval\u001b[0m\u001b[1;33m(\u001b[0m\u001b[1;36m0.90\u001b[0m\u001b[1;33m,\u001b[0m \u001b[0mloc\u001b[0m\u001b[1;33m=\u001b[0m\u001b[0mmedia\u001b[0m\u001b[1;33m,\u001b[0m \u001b[0mscale\u001b[0m\u001b[1;33m=\u001b[0m\u001b[0mdesvio_padrao\u001b[0m\u001b[1;33m)\u001b[0m\u001b[1;33m\u001b[0m\u001b[0m\n",
      "\u001b[1;31mNameError\u001b[0m: name 'soma' is not defined"
     ]
    }
   ],
   "source": [
    "#5\n",
    "#amostra1 90%\n",
    "media = soma/30\n",
    "desvio_padrao = np.std(vet1)                                          \n",
    "conf_int = sp.stats.norm.interval(0.90, loc=media, scale=desvio_padrao) \n",
    "print(\"intervalo de confiança: \")\n",
    "print(conf_int)\n",
    "#amostra1 95%\n",
    "media = soma/30\n",
    "desvio_padrao = np.std(vet1)                                          \n",
    "conf_int = sp.stats.norm.interval(0.95, loc=media, scale=desvio_padrao) \n",
    "print(\"intervalo de confiança: \")\n",
    "print(conf_int)\n",
    "#amostra1 99%\n",
    "media = soma/30\n",
    "desvio_padrao = np.std(vet1)                                          \n",
    "conf_int = sp.stats.norm.interval(0.99, loc=media, scale=desvio_padrao) \n",
    "print(\"intervalo de confiança: \")\n",
    "print(conf_int)\n",
    "#amostra2 90%\n",
    "media2 = soma2/30\n",
    "desvio_padrao = np.std(vet2)                                          \n",
    "conf_int = sp.stats.norm.interval(0.90, loc=media, scale=desvio_padrao) \n",
    "print(\"intervalo de confiança: \")\n",
    "print(conf_int)\n",
    "#amostra2 95%\n",
    "media2 = soma2/30\n",
    "desvio_padrao = np.std(vet2)                                          \n",
    "conf_int = sp.stats.norm.interval(0.95, loc=media, scale=desvio_padrao) \n",
    "print(\"intervalo de confiança: \")\n",
    "print(conf_int)\n",
    "#amostra2 99%\n",
    "media2 = soma2/30\n",
    "desvio_padrao = np.std(vet2)                                          \n",
    "conf_int = sp.stats.norm.interval(0.99, loc=media, scale=desvio_padrao) \n",
    "print(\"intervalo de confiança: \")\n",
    "print(conf_int)"
   ]
  },
  {
   "cell_type": "markdown",
   "metadata": {},
   "source": [
    "### Resultados"
   ]
  },
  {
   "cell_type": "code",
   "execution_count": null,
   "metadata": {},
   "outputs": [],
   "source": []
  }
 ],
 "metadata": {
  "kernelspec": {
   "display_name": "Python 3",
   "language": "python",
   "name": "python3"
  },
  "language_info": {
   "codemirror_mode": {
    "name": "ipython",
    "version": 3
   },
   "file_extension": ".py",
   "mimetype": "text/x-python",
   "name": "python",
   "nbconvert_exporter": "python",
   "pygments_lexer": "ipython3",
   "version": "3.7.0"
  }
 },
 "nbformat": 4,
 "nbformat_minor": 2
}
